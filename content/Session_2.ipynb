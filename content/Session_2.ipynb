{
  "cells": [
    {
      "cell_type": "markdown",
      "metadata": {
        "id": "2W3a5DMK_a9z"
      },
      "source": [
        "### Session 2 - Computing: getting started\n",
        "In this session we will cover the basics of computing and getting started with Python / coding.\n",
        "\n"
      ]
    },
    {
      "cell_type": "markdown",
      "metadata": {
        "id": "FjexW0A1_tI2"
      },
      "source": [
        "\n",
        "![noun-coding-7073167-2.png](data:image/png;base64,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)\n",
        "\n",
        "## Why computing?\n",
        "\n",
        "* Computations are essential in Engineering\n",
        "* Programming allows to automate computations, do parametric analysis quickly and store large amount of data\n",
        "* Using modern programming languages (e.g. Python) does not require to understand the underlying electronics\n",
        "* Cost effective to simulate physical systems and to design devices\n",
        "* Allows innovation and speeds up the design process\n"
      ]
    },
    {
      "cell_type": "markdown",
      "metadata": {
        "id": "VD4cBd0lAW4R"
      },
      "source": [
        "![noun-python-6647256.png](data:image/png;base64,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)\n",
        "\n",
        "## Why Python?\n",
        "\n",
        "Python is an ideal programming language for first-year engineering students due to its simplicity and versatility. Its clean and readable syntax allows students to focus on learning programming concepts without the distraction of complex language structures. Python supports a wide range of libraries and frameworks that are particularly beneficial for engineering applications, such as data analysis, simulations, and machine learning. Additionally, Python's strong community and extensive documentation provide valuable resources for beginners. Learning Python equips students with a solid foundation in programming, which is essential for solving complex engineering problems and advancing in their studies and careers.\n",
        "\n",
        "[![](https://markdown-videos-api.jorgenkh.no/youtube/uWYTzPnINq0)](https://youtu.be/uWYTzPnINq0)\n"
      ]
    },
    {
      "cell_type": "markdown",
      "metadata": {
        "id": "qhFZtHFEApol"
      },
      "source": [
        "![noun-py-file-4080285.png](data:image/png;base64,iVBORw0KGgoAAAANSUhEUgAAAGQAAABkCAYAAABw4pVUAAAABmJLR0QA/wD/AP+gvaeTAAACrElEQVR4nO3cvWsUQQCG8SdRU4UELFIJglYWEQMigoXBSmwsRNEg2lmJhWCl4LX+CTa2gpLWRgStFQtT+dFobWmhhYnFznGb03h7uzM7796+P1iSvVxmNjy5uY9sDszMzMzMzMzMzMys++YyzbsatjZthQ3gMPC15fmlDYCdlrdBaf5XwONkP10D87kPIJN9wC0Eo/Q1yJBclL4HAbEoDlKQieIgIxJRHGS37FEc5G9ZozjIv2WL4iB7yxLFQf6v9SgOMlmrURykmtaiOEh1rURxkOkkj+Ig00saxUHqSRZlf4pBO+A9cLThGOeBs8Cb5ocz0tcgd8Mmx0uWmD7dQlaBjchjlk+c6LQB7Z/kkPrEiSi8ZIlxEDEOIsZBxDiIGAcR4yBiHESMg4hxEDEOIibXi4tbwNNMcw9dyzy/jfGLizZZ7CXrcuTxYnue+wAmiR3kWeTxYsv1X8eVeckS4yBiHESMQpB14GRpOwc8An4Bn8Nl18e+53a4/F1rR9lRdR7LL+8x1kb4+nrYfxv2v1D84/8asD3lXE2PNfnzkNjqBjlY2v8W9ueB78DLMPYw0J2wv1ljrqbH2ssgO8DxMN7HsH8KOEDxkssixTlW0946OhFE5US5nxT3G1AsSR+AFeBIuOw+cBG4APwAHtCB5xQK6t5Cxi0BL0rX2Wb0dk7HgN8152p6rL25hSwCT8LnS8BpdoeaA24A94CbaDw6TEIlyAKTXwdbGPs4k2b2N62rHESMwpL1mmqPmK4CZ4BDSY8mM4UgJypebyVsM81LlhgHEeMgYmLfh8j/zVpd7CBXIo/XO16yxOR62Jvjvd87IVeQS8DDTHNL85IlxkHEOIgYBxHjIGIcRIyDiHEQMQ4iJtcz9U3gU6a5Y5qJd5MzMzMzMzMzMzMzs9j+APXzVMg6FKcaAAAAAElFTkSuQmCC)\n",
        "\n",
        "## What is a Python Script\n",
        "\n",
        "A Python script is a file containing a sequence of Python commands or statements that can be executed as a program. These scripts are typically saved with the .py extension and can be run using the Python interpreter to perform a variety of tasks, from simple calculations to complex data processing and automation.\n",
        "\n",
        "Here are some key characteristics of Python scripts:\n",
        "\n",
        "* **Executable Code:** A Python script contains executable code written in the Python programming language. It can include functions, classes, variables, loops, and other programming constructs.\n",
        "* **Automation:** Python scripts are often used to automate repetitive tasks, such as data analysis, file manipulation, web scraping, and more.\n",
        "* **Portability:** Python scripts are platform-independent, meaning they can run on different operating systems, such as Windows, macOS, and Linux, without modification, as long as the Python interpreter is installed.\n",
        "* **Modularity:** Scripts can be modularized into functions and classes, promoting code reuse and organization. This modularity makes it easier to maintain and scale the code.\n",
        "* **Integration:** Python scripts can easily integrate with other software and systems, allowing for data exchange and interaction with databases, web services, and hardware components.\n",
        "* **Execution:** To execute a Python script, one can use the command line by typing **python script_name.py**, or through an integrated development environment (IDE) that supports Python, such as PyCharm or Visual Studio Code.\n",
        "\n",
        "Python scripts are a fundamental part of using Python as a tool for problem-solving, allowing users to develop solutions to a wide range of computational tasks."
      ]
    },
    {
      "cell_type": "markdown",
      "metadata": {
        "id": "TX7DHG6NBlTB"
      },
      "source": [
        "![noun-script-5879534.png](data:image/png;base64,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)\n",
        "\n",
        "## What is a Jupyter Notebook?\n",
        "\n",
        "A Jupyter Notebook is a tool that lets you write and run Python code in an interactive and easy-to-use way. It is especially useful for learning and exploring programming because it allows you to see the results of your code immediately.\n",
        "\n",
        "# Key features:\n",
        "\n",
        "* **Live Code Execution:** You can write code and run it right away to see what it does. This helps you learn by trying things out and seeing instant feedback.\n",
        "* **Mixing Code and Text:** You can write explanations and notes along with your code, making it easier to understand what your code is doing and why. This is great for learning and keeping track of your work.\n",
        "* **Visualisation:** You can create graphs and charts directly in the notebook, which helps you visualise data and understand results better.\n",
        "* **Easy Sharing:** Notebooks can be shared with others, so you can collaborate on projects or share your work with instructors or classmates."
      ]
    },
    {
      "cell_type": "markdown",
      "metadata": {
        "id": "cdD7lm2fDP1c"
      },
      "source": [
        "## Our first Python script\n",
        "\n",
        "If you run the script in the box below either using the ![noun-play-4793037.png](data:image/png;base64,iVBORw0KGgoAAAANSUhEUgAAABwAAAAcCAYAAAByDd+UAAAAAXNSR0IArs4c6QAAAIRlWElmTU0AKgAAAAgABQESAAMAAAABAAEAAAEaAAUAAAABAAAASgEbAAUAAAABAAAAUgEoAAMAAAABAAIAAIdpAAQAAAABAAAAWgAAAAAAAABIAAAAAQAAAEgAAAABAAOgAQADAAAAAQABAACgAgAEAAAAAQAAABygAwAEAAAAAQAAABwAAAAAl4eZoQAAAAlwSFlzAAALEwAACxMBAJqcGAAAAVlpVFh0WE1MOmNvbS5hZG9iZS54bXAAAAAAADx4OnhtcG1ldGEgeG1sbnM6eD0iYWRvYmU6bnM6bWV0YS8iIHg6eG1wdGs9IlhNUCBDb3JlIDYuMC4wIj4KICAgPHJkZjpSREYgeG1sbnM6cmRmPSJodHRwOi8vd3d3LnczLm9yZy8xOTk5LzAyLzIyLXJkZi1zeW50YXgtbnMjIj4KICAgICAgPHJkZjpEZXNjcmlwdGlvbiByZGY6YWJvdXQ9IiIKICAgICAgICAgICAgeG1sbnM6dGlmZj0iaHR0cDovL25zLmFkb2JlLmNvbS90aWZmLzEuMC8iPgogICAgICAgICA8dGlmZjpPcmllbnRhdGlvbj4xPC90aWZmOk9yaWVudGF0aW9uPgogICAgICA8L3JkZjpEZXNjcmlwdGlvbj4KICAgPC9yZGY6UkRGPgo8L3g6eG1wbWV0YT4KGV7hBwAAAsFJREFUSA2tlWtqVEEQhZ1EEVF/KqgLUBlFF2AWoIKS/YiI7sbHHzcwA7MBRYRodAO6Ad/xfPf2d9OZ9NwJxoIz1V1ddaq6bnfP5MTRZSOum8FeAZGTgt/RfzD8DzkZEpKtE3zwHRUqXCUmsfLrcdwKpsGFEvQl+n2wCHaKzS4YV8zjiiDlfgbzAALbuaxZmwV3A6Xm0NbUtuV8Vl8FNfnPzH8E6Hpc+zzP2tkAkaufNX6t6krWPgcQSb5uh/oRsxtcChA5+1n16zdjZyb7lrHVcxLBr2AsuTEkdadyx7QvGm2jgSRsJSC5xSxrY2kvcmiX9poDQjDtkUTiN7HdCp5Va7Wf/mrXPEjmSPj+PZtnvJyQQ4LtUaBsZ/A9wO66idQmnJUgOzhcau6ZznULDXxSAs8UfTX6Y0AMSesYbM7p0LUA2SCr/d3qTP2hGHsQKOBU8CG4Gbwu86guORqBgwNGjjsB0iWkGmTaqwNBxXRIkZRvQlsfBnzXVpFy38h6J2TX6HPVCizuB5TVk/hxwDd2VzrKJffe8CH1OIaWvEUxrJHQydfi6Y5bgbWNnXEw2OnTwOtSH3+5eOSRCYsm5NVHnPez9i+Hhu94OuByPwgkz3AQuQZudsixRRYBQRTRCo65E5NxLd4FJCM5YgLGNRfciLmGuziPEUcI0MCLzaFQjnXxIbHvY0/b2/jdDvxWy4VZoNqim08bSTf5ibwMCPIBZuyrIRma9tTzemzsysc7sUNbz2X8qZAZaAKScCpbBZjQGDjgQlZeP3d5OU4mpTVgLAlr+pF4N4ADkbOfNX79nlT3IrByNKQcIskd1z7EuDO5YhqXuqp7cZ0F63aIjwcE9pqDeSf1vdGm9hXy7vAXsxVMg4vFiReES70IdoqNROyYAv9JaMvKj14x4rO2hWM7rLi6IYRWzw4Q4gFdONKO/gLtOjNEzuyMqwAAAABJRU5ErkJggg==) button or pressing **shift** and **enter** keys on the keyboard, you will get the computer to print a nice message for you."
      ]
    },
    {
      "cell_type": "code",
      "execution_count": null,
      "metadata": {
        "id": "QU_rLu4NADUD"
      },
      "outputs": [],
      "source": [
        "print(\"Hello and welcome to learning Python\")"
      ]
    },
    {
      "cell_type": "markdown",
      "metadata": {
        "id": "_PbtsmzjFDLq"
      },
      "source": [
        "Now you try and write a Python script than when run, prints your name:"
      ]
    },
    {
      "cell_type": "code",
      "execution_count": null,
      "metadata": {
        "id": "ukgo2r-eFKGQ"
      },
      "outputs": [],
      "source": []
    },
    {
      "cell_type": "markdown",
      "metadata": {
        "id": "Bx6NuNqpVDIo"
      },
      "source": [
        "The command we used here is `print`. This commands produces writes output from a script. Now let us try a few variations of this command."
      ]
    },
    {
      "cell_type": "code",
      "execution_count": null,
      "metadata": {
        "id": "szg4tpxAV173"
      },
      "outputs": [],
      "source": [
        "print(47)"
      ]
    },
    {
      "cell_type": "code",
      "execution_count": null,
      "metadata": {
        "id": "pTZAPUT1V47O"
      },
      "outputs": [],
      "source": [
        "print(\"This is text. Text is often called String in programming jargon as it is treated as a string of characters by the computer\")"
      ]
    },
    {
      "cell_type": "markdown",
      "metadata": {
        "id": "vKBPgZ2KXCdI"
      },
      "source": [
        "You need to put the text in either quotes `'` or double quotes `\"`"
      ]
    },
    {
      "cell_type": "code",
      "execution_count": null,
      "metadata": {
        "id": "vmye_la5XL2Z"
      },
      "outputs": [],
      "source": [
        " print(\"your string\") #By the way you can add comments in your code by adding the hashtag symbol\n",
        " print('This also works')\n",
        " print(\"so if you want to have 'single quotes' in your text use this\")\n",
        " print('and if you want to have \"double quotes\" use this')"
      ]
    },
    {
      "cell_type": "markdown",
      "metadata": {
        "id": "C32KVsGhXWqa"
      },
      "source": [
        "### Exercise 1\n",
        "\n",
        "See if you can fix the following script:\n"
      ]
    },
    {
      "cell_type": "code",
      "execution_count": null,
      "metadata": {
        "id": "BqQEnytcXioI"
      },
      "outputs": [],
      "source": [
        "print(\"This is broken, can you fix it?'')"
      ]
    },
    {
      "cell_type": "markdown",
      "metadata": {
        "id": "sIQ9VSKSWR6C"
      },
      "source": [
        "## Python as a calculator\n",
        "\n",
        "We can use Python to do basic calculations and then print the results. For example"
      ]
    },
    {
      "cell_type": "code",
      "execution_count": null,
      "metadata": {
        "id": "mo7bqmDwWWFK"
      },
      "outputs": [],
      "source": [
        "print(12-4)"
      ]
    },
    {
      "cell_type": "markdown",
      "metadata": {
        "id": "_xAXz3qVWY8k"
      },
      "source": [
        "and here are a few more examples:"
      ]
    },
    {
      "cell_type": "code",
      "execution_count": null,
      "metadata": {
        "id": "k5gmmy1zWXr2"
      },
      "outputs": [],
      "source": [
        "print(54+8)\n",
        "print(2**3) #This means raise 2 to the third power\n",
        "print(11/3)"
      ]
    },
    {
      "cell_type": "markdown",
      "metadata": {
        "id": "zAKq6lB5YMyh"
      },
      "source": [
        "### Exercise 2\n",
        "\n",
        "Try running the following script which is trying to calculate `45+2`. Is it producing the output you expected? How would you change it to work."
      ]
    },
    {
      "cell_type": "code",
      "execution_count": null,
      "metadata": {
        "id": "crIL1YErWwtK"
      },
      "outputs": [],
      "source": [
        "print(\"45\"+\"2\")"
      ]
    },
    {
      "cell_type": "markdown",
      "metadata": {
        "id": "gOoJDSLSYn8J"
      },
      "source": [
        "\n",
        "---\n",
        "So it seems that we can do additions with Strings as well but it means something different. Try the following examples:\n",
        "\n"
      ]
    },
    {
      "cell_type": "code",
      "execution_count": null,
      "metadata": {
        "id": "0y4BSGMJY3ka"
      },
      "outputs": [],
      "source": [
        "print(\"The sea is calm and visibility is\"+\" good\")"
      ]
    },
    {
      "cell_type": "code",
      "execution_count": null,
      "metadata": {
        "id": "ITfOnVuzZAXW"
      },
      "outputs": [],
      "source": [
        "print(\"Mayday! \"*3)"
      ]
    },
    {
      "cell_type": "markdown",
      "metadata": {
        "id": "4QGajmLzZGEv"
      },
      "source": [
        "## Variables and data types\n",
        "\n",
        "Variables are used to store data, which can be of various types such as integers, floats, strings, and booleans. Here is an example of how to declare variables in Python:"
      ]
    },
    {
      "cell_type": "code",
      "execution_count": null,
      "metadata": {
        "id": "FrP6p5iPZDFt"
      },
      "outputs": [],
      "source": [
        "age = 21  # integer - a whole number\n",
        "height = 1.75  # float - a real number\n",
        "name = \"John Doe\"  # string\n",
        "is_student = True  # boolean - True or False -- Note the capital T and F"
      ]
    },
    {
      "cell_type": "markdown",
      "metadata": {
        "id": "XEiOOl57Zhm4"
      },
      "source": [
        "Once a variable is declared we can use it to represent its content. So for example we can write"
      ]
    },
    {
      "cell_type": "code",
      "execution_count": null,
      "metadata": {
        "id": "R9AWNAiUZod1"
      },
      "outputs": [],
      "source": [
        "print(name+\" is \"+str(age)+\" years old\")"
      ]
    },
    {
      "cell_type": "markdown",
      "metadata": {
        "id": "ncj51gCmZyAf"
      },
      "source": [
        "but what is with the `str(age)`? 😠\n",
        "\n",
        "If we try writing the same script with out `str()`, Python will think that we are adding a string to an integer. As we discussed above, Python uses the same symbol `+` to both mean the mathematical addition of two numbers and putting two strings one after another. If we mix the two types, it gets confused about which meaning of the symbol it should use. Try this:"
      ]
    },
    {
      "cell_type": "code",
      "execution_count": null,
      "metadata": {
        "id": "5vA8vKfKZwhC"
      },
      "outputs": [],
      "source": [
        "print(name+\" is \"+age+\" years old\")"
      ]
    },
    {
      "cell_type": "markdown",
      "metadata": {
        "id": "6Nzjs6oVaqX1"
      },
      "source": [
        "So what we need to do is to convert (or in programming jargon _cast_) something from one type to another to resolve the confusion. `str()` converts a number to string. Unsurprisingly `int()` and `float()` convert strings to numbers. They only work if the content of the string is digits. Run these examples:"
      ]
    },
    {
      "cell_type": "code",
      "execution_count": null,
      "metadata": {
        "id": "Z01bv0rfa_0N"
      },
      "outputs": [],
      "source": [
        "print(str(42)+str(2))\n",
        "print(int(\"12\")+float(\"2.5\"))"
      ]
    },
    {
      "cell_type": "code",
      "execution_count": null,
      "metadata": {
        "id": "MCtRTCZXbFqO"
      },
      "outputs": [],
      "source": [
        "print(int(\"a12\"))"
      ]
    },
    {
      "cell_type": "code",
      "execution_count": null,
      "metadata": {
        "id": "7e0a0Kv8isMJ"
      },
      "outputs": [],
      "source": [
        "print(int(\"2.5\"))"
      ]
    },
    {
      "cell_type": "code",
      "execution_count": null,
      "metadata": {
        "id": "0qneLioSizkz"
      },
      "outputs": [],
      "source": [
        "print(int(2.5))"
      ]
    },
    {
      "cell_type": "markdown",
      "metadata": {
        "id": "pjVhoNuqi52q"
      },
      "source": [
        "The last one works, because here we are asking Python to find the integer part of a real number. Do note that it is not rounding."
      ]
    },
    {
      "cell_type": "markdown",
      "metadata": {},
      "source": [
        "In addition to numbers and strings, we also have booleans (that can only be ```True``` or ```False```) in Python. See this example:"
      ]
    },
    {
      "cell_type": "code",
      "execution_count": null,
      "metadata": {},
      "outputs": [],
      "source": [
        "print(bool(0))\n",
        "print(bool(1))"
      ]
    },
    {
      "cell_type": "code",
      "execution_count": null,
      "metadata": {},
      "outputs": [],
      "source": [
        "y=True\n",
        "print(y)\n",
        "print(int(y))"
      ]
    },
    {
      "cell_type": "markdown",
      "metadata": {
        "id": "VpBclV1gj5gw"
      },
      "source": [
        "### Exercise 3 - a calculator\n",
        "\n",
        "Let's begin with two numbers:\n",
        "\n"
      ]
    },
    {
      "cell_type": "code",
      "execution_count": 8,
      "metadata": {
        "id": "sInAviPFkBUN"
      },
      "outputs": [],
      "source": [
        "number1=36\n",
        "number2=11"
      ]
    },
    {
      "cell_type": "markdown",
      "metadata": {
        "id": "s89QIOtIkTz9"
      },
      "source": [
        "write a script that performs the following operations: addition ```+```, subtraction ```-```, multiplication ```*```, division ```/```, exponent (power) ```**``` and modulo (remainder)```%```. Print the results."
      ]
    },
    {
      "cell_type": "code",
      "execution_count": null,
      "metadata": {
        "id": "kZOFiHEEkEq4"
      },
      "outputs": [],
      "source": [
        "#write your script here\n"
      ]
    },
    {
      "cell_type": "markdown",
      "metadata": {},
      "source": [
        "## Formatting numbers for printing\n",
        "\n",
        "There are several ways to format a number as a string for printing in Python. One is to use the ```format``` function. For example:"
      ]
    },
    {
      "cell_type": "code",
      "execution_count": null,
      "metadata": {},
      "outputs": [],
      "source": [
        "'{:.2f}'.format(3.1415926534)"
      ]
    },
    {
      "cell_type": "markdown",
      "metadata": {},
      "source": [
        "formats the number to two decimal places. replacing ```f``` with ```e``` produces numbers using the scientific notation. See this example:"
      ]
    },
    {
      "cell_type": "code",
      "execution_count": null,
      "metadata": {},
      "outputs": [],
      "source": [
        "'{:.2e}'.format(3.1415926534)"
      ]
    },
    {
      "cell_type": "markdown",
      "metadata": {},
      "source": [
        "we can also use Python's F-String for formatting the output. This is an example:"
      ]
    },
    {
      "cell_type": "code",
      "execution_count": null,
      "metadata": {},
      "outputs": [],
      "source": [
        "a=54.9292\n",
        "b=35.7\n",
        "n=\"James\"\n",
        "\n",
        "print(f\"The first number I want to print is {a:.2f} followed by {b:.2f}. Are you OK with this {n}?\")"
      ]
    },
    {
      "cell_type": "markdown",
      "metadata": {},
      "source": [
        "## Valid variable names\n",
        "Variable names can contain letters, numbers and underscore but no special \n",
        "characters. Must start with a letter or underscore.\n",
        "Which of the following variable names is not allowed and produces an error?"
      ]
    },
    {
      "cell_type": "code",
      "execution_count": null,
      "metadata": {},
      "outputs": [],
      "source": [
        "x=5"
      ]
    },
    {
      "cell_type": "code",
      "execution_count": null,
      "metadata": {},
      "outputs": [],
      "source": [
        "x1=3"
      ]
    },
    {
      "cell_type": "code",
      "execution_count": null,
      "metadata": {},
      "outputs": [],
      "source": [
        "X_2=4"
      ]
    },
    {
      "cell_type": "code",
      "execution_count": null,
      "metadata": {},
      "outputs": [],
      "source": [
        "x@y=3"
      ]
    },
    {
      "cell_type": "code",
      "execution_count": null,
      "metadata": {},
      "outputs": [],
      "source": [
        "z%y=1"
      ]
    },
    {
      "cell_type": "code",
      "execution_count": null,
      "metadata": {},
      "outputs": [],
      "source": [
        "_x_v=2.9"
      ]
    },
    {
      "cell_type": "code",
      "execution_count": null,
      "metadata": {},
      "outputs": [],
      "source": [
        "1x=2"
      ]
    },
    {
      "cell_type": "markdown",
      "metadata": {},
      "source": [
        "## The assignment operator ( = )\n",
        "\n",
        "This operator can be used to assign (or reassign) a value to a variable. It is not the same as a mathematical identity, which is what you may have previously seen the symbol represent. So for example the statement\n",
        "``` a = 12 ```\n",
        "\n",
        "assigns a value of 12 to the variable named ```a```."
      ]
    },
    {
      "cell_type": "code",
      "execution_count": null,
      "metadata": {},
      "outputs": [],
      "source": [
        "a=12\n",
        "print(a)"
      ]
    },
    {
      "cell_type": "markdown",
      "metadata": {},
      "source": [
        "In subsequent code we can use the same operator to give ```a``` another value:"
      ]
    },
    {
      "cell_type": "code",
      "execution_count": null,
      "metadata": {},
      "outputs": [],
      "source": [
        "a=8\n",
        "print(a)"
      ]
    },
    {
      "cell_type": "markdown",
      "metadata": {},
      "source": [
        "Remember, we can use the current value of a variable in our assignment of a new value to it. What would be the output of the following script?"
      ]
    },
    {
      "cell_type": "code",
      "execution_count": null,
      "metadata": {},
      "outputs": [],
      "source": [
        "a=5\n",
        "a=a+2\n",
        "print(a)"
      ]
    },
    {
      "cell_type": "markdown",
      "metadata": {},
      "source": [
        "## Comparison operators\n",
        "\n",
        "There are a number of comparison operators available in Python these are:\n",
        "\n",
        "* ```a>b``` translating to is ```a``` greater than ```b```?\n",
        "* ```a<b``` translating to is ```a``` smaller than ```b```?\n",
        "* ```a>=b``` translating to is ```a``` greater than or equal to ```b```?\n",
        "* ```a<=b``` translating to is ```a``` smaller than or equal to ```b```?\n",
        "* ```a==b``` translating to is ```a``` equal to ```b```?\n",
        "* ```a!=b``` translating to is ```a``` different to ```b```?\n",
        "\n",
        "run these examples:\n"
      ]
    },
    {
      "cell_type": "code",
      "execution_count": null,
      "metadata": {},
      "outputs": [],
      "source": [
        "3>2"
      ]
    },
    {
      "cell_type": "code",
      "execution_count": null,
      "metadata": {},
      "outputs": [],
      "source": [
        "3.1>=3.1"
      ]
    },
    {
      "cell_type": "code",
      "execution_count": null,
      "metadata": {},
      "outputs": [],
      "source": [
        "3.1==3.2"
      ]
    },
    {
      "cell_type": "code",
      "execution_count": null,
      "metadata": {},
      "outputs": [],
      "source": [
        "4!=5"
      ]
    },
    {
      "cell_type": "code",
      "execution_count": null,
      "metadata": {},
      "outputs": [],
      "source": [
        "2 < True"
      ]
    },
    {
      "cell_type": "code",
      "execution_count": null,
      "metadata": {},
      "outputs": [],
      "source": [
        "2==2.0"
      ]
    },
    {
      "cell_type": "markdown",
      "metadata": {},
      "source": [
        "## Logical operators\n",
        "\n",
        "Sometimes we may need to combine our comparison operators we do this with ```and```, ```or``` and ```not```. They behave as you would expect them to do. See the following examples:"
      ]
    },
    {
      "cell_type": "code",
      "execution_count": null,
      "metadata": {},
      "outputs": [],
      "source": [
        "x=7\n",
        "x==5 and x<10"
      ]
    },
    {
      "cell_type": "code",
      "execution_count": null,
      "metadata": {},
      "outputs": [],
      "source": [
        "x==5 or x<10"
      ]
    },
    {
      "cell_type": "code",
      "execution_count": null,
      "metadata": {},
      "outputs": [],
      "source": [
        "not x<5"
      ]
    },
    {
      "cell_type": "markdown",
      "metadata": {
        "id": "zLGrzzk6kivy"
      },
      "source": [
        "## Conditional statements\n",
        "\n",
        "Sometimes we need Python to do things only if certain conditions hold. For example, let's say we want to know whether a number is odd or even. In such circumstances, we can use the `if` statement. Here is an example:"
      ]
    },
    {
      "cell_type": "code",
      "execution_count": null,
      "metadata": {
        "id": "6hBcAntglLYh"
      },
      "outputs": [],
      "source": [
        "number = 7\n",
        "\n",
        "if number % 2 == 0:\n",
        "    print(\"Even number\")\n",
        "else:\n",
        "    print(\"Odd number\")"
      ]
    },
    {
      "cell_type": "markdown",
      "metadata": {
        "id": "Py6bl5cBlQOJ"
      },
      "source": [
        "with the `if` statement above, python checks if the remainder of dividing the number by 2 is 0 or not. Remainder or modulo is calculated by the `%` operator in Python.\n",
        "\n",
        "If it is zero, then `Even number` will be printed. Otherwise (or, in programming lingo, `else`), `Odd number` will be printed.\n",
        "\n",
        "**Please note that the indents before the prints are crucial**. That is how Python figures out which statements it needs to carry out if the condition is True or False. This will not run:"
      ]
    },
    {
      "cell_type": "code",
      "execution_count": null,
      "metadata": {
        "id": "pNicwVA2lNdh"
      },
      "outputs": [],
      "source": [
        "if number % 2 == 0:\n",
        "print(\"Even number\")\n",
        "else:\n",
        "print(\"Odd number\")"
      ]
    },
    {
      "cell_type": "markdown",
      "metadata": {
        "id": "LBwVKK-NmZ6z"
      },
      "source": [
        "### Exercise 4\n",
        "\n",
        "Write a script that determines whether `num` is positive, negative or zero"
      ]
    },
    {
      "cell_type": "code",
      "execution_count": null,
      "metadata": {
        "id": "tWA28VZcmCC_"
      },
      "outputs": [],
      "source": [
        "num1 = 12 #change this to test\n",
        "\n",
        "#write your script here:\n"
      ]
    },
    {
      "cell_type": "markdown",
      "metadata": {
        "id": "B2IhRKCEm2kq"
      },
      "source": [
        "## Loops\n",
        "\n",
        "Loops are used to do something repeatedly. One way of creating a loop is to use the `for` statement.\n",
        "\n",
        "See this example:"
      ]
    },
    {
      "cell_type": "code",
      "execution_count": null,
      "metadata": {
        "id": "znGZH8hfnH7n"
      },
      "outputs": [],
      "source": [
        "for i in range(5):\n",
        "    print(\"Counting : \", i)"
      ]
    },
    {
      "cell_type": "markdown",
      "metadata": {
        "id": "QOB03I46nNOb"
      },
      "source": [
        "This `for` statement instructs Python to do everyting in the indented block (indented similary to `if`) multiple times. In fact, it asks Python to do the indented statements once for every value of the variable `i` that is in `range(5)`. `range(x)` means every integer between `0` and `x-1` (inclusive).`range(m,n)` means every integer between `m` and `n-1` (inclusive). See https://docs.python.org/3/library/stdtypes.html#range for full syntax. Note that `i` is a normal variable and its value can be used in the loop. Also note that `print` can combine text and integers with when you combine them with `,`."
      ]
    },
    {
      "cell_type": "markdown",
      "metadata": {
        "id": "BHQYONm5osCq"
      },
      "source": [
        "Let's look at another example, where we calculate the factorial of a number."
      ]
    },
    {
      "cell_type": "code",
      "execution_count": null,
      "metadata": {
        "id": "b_eWqmWinK4J"
      },
      "outputs": [],
      "source": [
        "facnum=5 #We want to calculate the factorial for this number\n",
        "factorial=1 #This variable will ultimately contain the value of the Factorial\n",
        "for i in range(1,facnum+1): #For every value of i between 1 and facnum\n",
        "    factorial=factorial*i # we multiply the value of the factorial that we have calculated so far by i\n",
        "print(factorial)"
      ]
    },
    {
      "cell_type": "markdown",
      "metadata": {
        "id": "DKEtww0zp7P9"
      },
      "source": [
        "\n",
        "\n",
        "---\n",
        "Fun fact: if you do not need to use the variable inside the loop, you can just use the underscore symbol `_` in your `for` statement, like so:\n"
      ]
    },
    {
      "cell_type": "code",
      "execution_count": null,
      "metadata": {
        "id": "KleNXfkHqEq-"
      },
      "outputs": [],
      "source": [
        "for _ in range(5):\n",
        "    print(\"Hello \",end=\"\")"
      ]
    },
    {
      "cell_type": "markdown",
      "metadata": {
        "id": "_nympHP1qSHr"
      },
      "source": [
        "**NB:** adding the `,end=\"\"` token at the end of the `print` statement, stops Python from going to the next line after printing the text"
      ]
    },
    {
      "cell_type": "markdown",
      "metadata": {
        "id": "kTa6fhsaqi6k"
      },
      "source": [
        "### Exercise 5\n",
        "\n",
        "Write a script to produce the multiplication table from 1 to 12"
      ]
    },
    {
      "cell_type": "code",
      "execution_count": null,
      "metadata": {
        "id": "JVQhwcl5quMt"
      },
      "outputs": [],
      "source": [
        "#Write your script here:"
      ]
    },
    {
      "cell_type": "markdown",
      "metadata": {},
      "source": [
        "# How to create your own Jupyter notebooks and run Python code?\n",
        "\n",
        "There are several ways for you to create Jupyter notebooks:\n",
        "\n",
        "* The simplest way which is probably all you need for this unit is to use **Jupyter Lite**, which is what this notebook is running on. To begin point your browser to http://aydinnassehi.github.io/ecomda-python/ and you should be able to create a new note book. see (https://youtu.be/diLnOWhkKU8) \n",
        "\n",
        "* An alternative which I recommend because of its close integration with Gemini AI, provided that you have a Google account or are prepared to make one is **Google colaboratory**. see (https://youtu.be/aRAbfXCTI0Q)\n",
        "\n",
        "* A more professional environment for creating these notebooks on your own computer can be accessed via **Anaconda**. This is what is installed on the lab computers in MVB1.07 and MVB1.08 and you can install it on your own computer as well. see (https://youtu.be/sjzdHmul7so).\n",
        "\n",
        "* An alternative environment where you can develop code on your own computer is **Visual Studio Code** from Microsoft. see (https://youtu.be/J2EH_Jl-u60)"
      ]
    }
  ],
  "metadata": {
    "colab": {
      "provenance": []
    },
    "kernelspec": {
      "display_name": "Python 3",
      "name": "python3"
    },
    "language_info": {
      "codemirror_mode": {
        "name": "ipython",
        "version": 3
      },
      "file_extension": ".py",
      "mimetype": "text/x-python",
      "name": "python",
      "nbconvert_exporter": "python",
      "pygments_lexer": "ipython3",
      "version": "3.11.8"
    }
  },
  "nbformat": 4,
  "nbformat_minor": 0
}
